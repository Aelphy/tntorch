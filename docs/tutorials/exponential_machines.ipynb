{
 "cells": [
  {
   "cell_type": "markdown",
   "metadata": {},
   "source": [
    "# Exponential Machines\n",
    "\n",
    "[Exponential machines (Novikov et al., 2017)](https://arxiv.org/pdf/1605.03795.pdf) are predictors that are able to model all $2^N$ interactions between $N$ features. Those interactions are limited to being of degree 1, i.e. the regressor is of the form \n",
    "\n",
    "$$f(x_1, \\dots, x_N) = \\sum_{\\alpha \\subseteq \\{1, \\dots, N\\}} \\left( w_{\\alpha} \\cdot \\prod_{n \\in \\alpha} x_n \\right)$$\n",
    "\n",
    "and fitting the regressor means finding the best $w_{\\alpha}$ for all $2^N$ possible $\\alpha$'s. Besides the $L^2$ loss on the training data, the original paper also adds an $L^2$ regularization term (\"ridge\") on the set of weights $w$.\n",
    "\n",
    "We note that an exponential machine is equivalent to a TT-Tucker model with Tucker rank equal to 2: the first column of the Tucker factors should be a constant ($1$), and the second column should be linear ($x$). To this end, we can use for example a Legendre expansion of polynomials truncated to 2 basis elements. Note that this can be seen as a particular case of a [polynomial chaos expansion](pce.ipynb).\n",
    "\n",
    "We will try here a synthetic model with noise: $f^{\\mathrm{true}}(x_1, \\dots, x_5) = x_1 x_2 x_3 + x_1 x_2 x_3 x_4 x_5 + \\varepsilon$:"
   ]
  },
  {
   "cell_type": "code",
   "execution_count": 1,
   "metadata": {},
   "outputs": [],
   "source": [
    "import torch\n",
    "import tntorch as tn\n",
    "\n",
    "P = 100\n",
    "ntrain = int(P*0.75)\n",
    "N = 5\n",
    "ticks = 32  # We will use a 32^5 tensor\n",
    "\n",
    "X = torch.rand(P, N)*2 - 1  # Features between -1 and 1\n",
    "y = torch.prod(X, dim=1) + torch.prod(X[:, :3], dim=1)\n",
    "y += torch.randn(y.shape)*torch.std(y)/10  # Gaussian noise: 1/5th of the clean signal's sigma\n",
    "X = (X+1)/2*(ticks-1)  # Make feature between 0 and ticks-1, i.e. indexable by the tensor\n",
    "\n",
    "# Split into train/test\n",
    "X_train = X[:ntrain]\n",
    "y_train = y[:ntrain]\n",
    "X_test = X[ntrain:]\n",
    "y_test = y[ntrain:]"
   ]
  },
  {
   "cell_type": "markdown",
   "metadata": {},
   "source": [
    "A TT-rank of 2 should be enough to fit this data set, since it arises from the sum of exactly two interactions."
   ]
  },
  {
   "cell_type": "code",
   "execution_count": 2,
   "metadata": {},
   "outputs": [],
   "source": [
    "t = tn.rand(shape=[ticks]*N, ranks_tt=2, ranks_tucker=2, requires_grad=True)\n",
    "t.set_factors('legendre', requires_grad=False)  # We set the factors to Legendre polynomials, and fix them (won't be changed during optimization) "
   ]
  },
  {
   "cell_type": "code",
   "execution_count": 3,
   "metadata": {},
   "outputs": [
    {
     "name": "stdout",
     "output_type": "stream",
     "text": [
      "iter: 0      | loss:   7.956270 | total time:    0.0022\n",
      "iter: 500    | loss:   0.475733 | total time:    0.9688\n",
      "iter: 1000   | loss:   0.071103 | total time:    1.8799\n",
      "iter: 1500   | loss:   0.024970 | total time:    2.8605\n",
      "iter: 2000   | loss:   0.013503 | total time:    3.9351\n",
      "iter: 2500   | loss:   0.009449 | total time:    5.0269\n",
      "iter: 3000   | loss:   0.007776 | total time:    6.1072\n",
      "iter: 3500   | loss:   0.007118 | total time:    7.1863\n",
      "iter: 3532   | loss:   0.007094 | total time:    7.2544 <- converged (tol=0.0001)\n"
     ]
    }
   ],
   "source": [
    "def loss(t):\n",
    "    return tn.relative_error(y_train, t[X_train])**2\n",
    "tn.optimize(t, loss)"
   ]
  },
  {
   "cell_type": "code",
   "execution_count": 4,
   "metadata": {},
   "outputs": [
    {
     "name": "stdout",
     "output_type": "stream",
     "text": [
      "Test relative error: tensor(0.1051, grad_fn=<DivBackward1>)\n"
     ]
    }
   ],
   "source": [
    "print('Test relative error:', tn.relative_error(y_test, t[X_test]))"
   ]
  },
  {
   "cell_type": "markdown",
   "metadata": {},
   "source": [
    "The tensor of weights ($\\mathcal{W}$ in the original paper) can be retrieved as the TT part of our TT-Tucker tensor:"
   ]
  },
  {
   "cell_type": "code",
   "execution_count": 5,
   "metadata": {},
   "outputs": [
    {
     "data": {
      "text/plain": [
       "5D TT tensor:\n",
       "\n",
       "  2   2   2   2   2\n",
       "  |   |   |   |   |\n",
       " (0) (1) (2) (3) (4)\n",
       " / \\ / \\ / \\ / \\ / \\\n",
       "1   2   2   2   2   1"
      ]
     },
     "execution_count": 5,
     "metadata": {},
     "output_type": "execute_result"
    }
   ],
   "source": [
    "core = tn.Tensor(t.cores)\n",
    "core"
   ]
  },
  {
   "cell_type": "code",
   "execution_count": 6,
   "metadata": {},
   "outputs": [
    {
     "data": {
      "image/png": "[encoded data removed]",
      "text/plain": [
       "<Figure size 432x288 with 1 Axes>"
      ]
     },
     "metadata": {},
     "output_type": "display_data"
    }
   ],
   "source": [
    "import matplotlib.pyplot as plt\n",
    "%matplotlib inline\n",
    "import numpy as np\n",
    "\n",
    "plt.figure()\n",
    "plt.bar(np.arange(core.size), np.sort(core.numpy().flatten()))\n",
    "plt.show()"
   ]
  },
  {
   "cell_type": "markdown",
   "metadata": {},
   "source": [
    "Despite the noise, the model correctly retrieved the two interacting components. Those indeed correspond to $x_1 x_2 x_3$ and $x_1 x_2 x_3 x_4 x_5$:"
   ]
  },
  {
   "cell_type": "code",
   "execution_count": 7,
   "metadata": {},
   "outputs": [
    {
     "name": "stdout",
     "output_type": "stream",
     "text": [
      "tensor(1.0280, grad_fn=<SqueezeBackward0>)\n",
      "tensor(0.9253, grad_fn=<SqueezeBackward0>)\n"
     ]
    }
   ],
   "source": [
    "print(core[1, 1, 1, 0, 0])\n",
    "print(core[1, 1, 1, 1, 1])"
   ]
  },
  {
   "cell_type": "markdown",
   "metadata": {},
   "source": [
    "The orders of participating interactions (namely, 3 and 5) can be revealed as well by the [dimension distribution](sobol.ipynb):"
   ]
  },
  {
   "cell_type": "code",
   "execution_count": 8,
   "metadata": {},
   "outputs": [
    {
     "data": {
      "image/png": "[encoded data removed]",
      "text/plain": [
       "<Figure size 432x288 with 1 Axes>"
      ]
     },
     "metadata": {},
     "output_type": "display_data"
    }
   ],
   "source": [
    "plt.figure()\n",
    "plt.bar(np.arange(1, N+1), tn.dimension_distribution(t).numpy())\n",
    "plt.xlabel('Order')\n",
    "plt.ylabel('Variance contribution')\n",
    "plt.title('Dimension distribution')\n",
    "plt.show()"
   ]
  }
 ],
 "metadata": {
  "kernelspec": {
   "display_name": "Python 3",
   "language": "python",
   "name": "python3"
  },
  "language_info": {
   "codemirror_mode": {
    "name": "ipython",
    "version": 3
   },
   "file_extension": ".py",
   "mimetype": "text/x-python",
   "name": "python",
   "nbconvert_exporter": "python",
   "pygments_lexer": "ipython3",
   "version": "3.7.2"
  }
 },
 "nbformat": 4,
 "nbformat_minor": 2
}
