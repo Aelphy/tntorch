{
 "cells": [
  {
   "cell_type": "markdown",
   "metadata": {},
   "source": [
    "# Cross-approximation\n",
    "\n",
    "Often, we would like to build a $N$-dimensional tensor from a **black-box function** $f: \\Omega \\subset \\mathbb{R}^N \\to \\mathbb{R}$, where $\\Omega$ is a tensor product grid. That is, we are free to sample *whatever entries we want* within our domain $\\Omega$, but we cannot afford to sample the entire domain (as it contains an **exponentially large number of points**). One way to build such a tensor is using *cross-approximation* ([I. Oseledets, E. Tyrtyshnikov: \"TT-cross Approximation for Multidimensional Arrays\"](http://www.mat.uniroma2.it/~tvmsscho/papers/Tyrtyshnikov5.pdf)) from well-chosen fibers in the domain.\n",
    "\n",
    "We support two major use cases of cross-approximation in the TT format.\n",
    "\n",
    "## Approximating a Function over a Domain\n",
    "\n",
    "This is the more basic setting. We just need to specify:\n",
    "\n",
    "- Our function of interest\n",
    "- The tensor product domain $\\Omega = u_1 \\otimes \\dots \\otimes u_N$\n",
    "- The number of TT ranks"
   ]
  },
  {
   "cell_type": "code",
   "execution_count": 27,
   "metadata": {},
   "outputs": [
    {
     "name": "stdout",
     "output_type": "stream",
     "text": [
      "Cross-approximation over a 10D domain:\n",
      "iter: 0 | eps: 3.559e-07 | total time:   0.0769\n",
      "iter: 1 | eps: 1.565e-06 | total time:   0.1401\n",
      "iter: 2 | eps: 2.162e-06 | total time:   0.2166 <- converged\n",
      "Did 101376 function evaluations in 0.00391173s (2.59159e+07 evals/s)\n",
      "\n",
      "10D TT tensor:\n",
      "\n",
      " 32  32  32  32  32  32  32  32  32  32\n",
      "  |   |   |   |   |   |   |   |   |   |\n",
      " (0) (1) (2) (3) (4) (5) (6) (7) (8) (9)\n",
      " / \\ / \\ / \\ / \\ / \\ / \\ / \\ / \\ / \\ / \\\n",
      "1   8   8   8   8   8   8   8   8   8   1\n",
      "\n"
     ]
    }
   ],
   "source": [
    "import tntorch as tn\n",
    "import torch\n",
    "\n",
    "def function(Xs):  # The function should accept a matrix (one row per sample, one column per input variable) and return a vector with one result per sample\n",
    "    return 1./torch.sum(Xs, dim=1)  # Hilbert tensor\n",
    "\n",
    "domain = [torch.arange(1, 33) for n in range(10)]\n",
    "t = tn.cross(function=function, domain=domain, ranks_tt=8)\n",
    "\n",
    "print(t)"
   ]
  },
  {
   "cell_type": "markdown",
   "metadata": {},
   "source": [
    "## Element-wise Operations on Tensors\n",
    "\n",
    "Here we have one (or several) $N$-dimensional tensors that we want to transform element-wise. For instance, we may want to square each element of our tensor:"
   ]
  },
  {
   "cell_type": "code",
   "execution_count": 24,
   "metadata": {},
   "outputs": [
    {
     "name": "stdout",
     "output_type": "stream",
     "text": [
      "Cross-approximation over a 10D domain:\n",
      "iter: 0 | eps: 1.321e-05 | total time:   0.0401\n",
      "iter: 1 | eps: 4.380e-05 | total time:   0.0738\n",
      "iter: 2 | eps: 5.497e-05 | total time:   0.1173 <- converged\n",
      "Did 101376 function evaluations in 0.00066781s (1.51804e+08 evals/s)\n",
      "\n"
     ]
    }
   ],
   "source": [
    "t2 = tn.cross(function=lambda x: x**2, tensors=t, ranks_tt=8)"
   ]
  },
  {
   "cell_type": "markdown",
   "metadata": {},
   "source": [
    "Just for practice, let's do this now in a slightly different way by passing two tensors:"
   ]
  },
  {
   "cell_type": "code",
   "execution_count": 25,
   "metadata": {},
   "outputs": [
    {
     "name": "stdout",
     "output_type": "stream",
     "text": [
      "Cross-approximation over a 10D domain:\n",
      "iter: 0 | eps: 2.436e-05 | total time:   0.0372\n",
      "iter: 1 | eps: 3.643e-05 | total time:   0.0764\n",
      "iter: 2 | eps: 4.644e-05 | total time:   0.1144 <- converged\n",
      "Did 101376 function evaluations in 0.00103092s (9.83353e+07 evals/s)\n",
      "\n"
     ]
    }
   ],
   "source": [
    "t2 = tn.cross(function=lambda x: x[:, 0]*x[:, 1], tensors=[t, t], ranks_tt=8)"
   ]
  },
  {
   "cell_type": "markdown",
   "metadata": {},
   "source": [
    "Let's check the accuracy of our cross-approximated squaring operation, compared to the groundtruth `t*t`:"
   ]
  },
  {
   "cell_type": "code",
   "execution_count": 26,
   "metadata": {},
   "outputs": [
    {
     "data": {
      "text/plain": [
       "tensor(0.0000)"
      ]
     },
     "execution_count": 26,
     "metadata": {},
     "output_type": "execute_result"
    }
   ],
   "source": [
    "tn.relative_error(t*t, t2)"
   ]
  }
 ],
 "metadata": {
  "kernelspec": {
   "display_name": "Python 3",
   "language": "python",
   "name": "python3"
  },
  "language_info": {
   "codemirror_mode": {
    "name": "ipython",
    "version": 3
   },
   "file_extension": ".py",
   "mimetype": "text/x-python",
   "name": "python",
   "nbconvert_exporter": "python",
   "pygments_lexer": "ipython3",
   "version": "3.6.7"
  }
 },
 "nbformat": 4,
 "nbformat_minor": 2
}
