{
 "cells": [
  {
   "cell_type": "markdown",
   "metadata": {},
   "source": [
    "# Cross-approximation\n",
    "\n",
    "Often, we would like to build a $N$-dimensional tensor from a **black-box function** $f: \\Omega \\subset \\mathbb{R}^N \\to \\mathbb{R}$, where $\\Omega$ is a tensor product grid. That is, we are free to sample *whatever entries we want* within our domain $\\Omega$, but we cannot afford to sample the entire domain (as it contains an **exponentially large number of points**). One way to build such a tensor is using *cross-approximation* ([I. Oseledets, E. Tyrtyshnikov: \"TT-cross Approximation for Multidimensional Arrays\"](http://www.mat.uniroma2.it/~tvmsscho/papers/Tyrtyshnikov5.pdf)) from well-chosen fibers in the domain.\n",
    "\n",
    "We support two major use cases of cross-approximation in the TT format.\n",
    "\n",
    "## Approximating a Function over a Domain\n",
    "\n",
    "This is the more basic setting. We just need to specify:\n",
    "\n",
    "- Our function of interest\n",
    "- The tensor product domain $\\Omega = u_1 \\otimes \\dots \\otimes u_N$\n",
    "- The number of TT ranks"
   ]
  },
  {
   "cell_type": "code",
   "execution_count": 1,
   "metadata": {},
   "outputs": [
    {
     "name": "stdout",
     "output_type": "stream",
     "text": [
      "Cross-approximation over a 5D domain containing 3.35544e+07 grid points:\n",
      "iter: 0 | eps: 1.068e-04 | total time:   0.0162\n",
      "iter: 1 | eps: 7.863e-05 | total time:   0.0318\n",
      "iter: 2 | eps: 7.395e-05 | total time:   0.0480\n",
      "iter: 3 | eps: 7.461e-05 | total time:   0.0647\n",
      "iter: 4 | eps: 7.199e-05 | total time:   0.0854\n",
      "iter: 5 | eps: 7.461e-05 | total time:   0.1065 <- converged\n",
      "Did 43968 function evaluations, which took 0.002092s (2.101e+07 evals/s)\n",
      "\n",
      "5D TT tensor:\n",
      "\n",
      " 32  32  32  32  32\n",
      "  |   |   |   |   |\n",
      " (0) (1) (2) (3) (4)\n",
      " / \\ / \\ / \\ / \\ / \\\n",
      "1   6   6   6   6   1\n",
      "\n"
     ]
    }
   ],
   "source": [
    "import tntorch as tn\n",
    "import torch\n",
    "\n",
    "def function(x, y, z, t, w):  # Input arguments are vectors\n",
    "    return 1 / (x + y + z + t + w)  # Hilbert tensor\n",
    "\n",
    "domain = [torch.arange(1, 33) for n in range(5)]\n",
    "t = tn.cross(function=function, domain=domain, ranks_tt=6)\n",
    "\n",
    "print(t)"
   ]
  },
  {
   "cell_type": "markdown",
   "metadata": {},
   "source": [
    "Sometimes it's more convenient to work with functions that accept matrices (instead of a list of vectors) as input. We can do this with the `function_arg='matrix'` flag:"
   ]
  },
  {
   "cell_type": "code",
   "execution_count": 2,
   "metadata": {},
   "outputs": [
    {
     "name": "stdout",
     "output_type": "stream",
     "text": [
      "Cross-approximation over a 5D domain containing 3.35544e+07 grid points:\n",
      "iter: 0 | eps: 6.688e-05 | total time:   0.0309\n",
      "iter: 1 | eps: 8.202e-05 | total time:   0.0527\n",
      "iter: 2 | eps: 8.148e-05 | total time:   0.0733 <- converged\n",
      "Did 22080 function evaluations, which took 0.003524s (6.266e+06 evals/s)\n",
      "\n"
     ]
    }
   ],
   "source": [
    "def function(Xs):  # Matrix (one row per sample, one column per input variable) and return a vector with one result per sample\n",
    "    return 1/torch.sum(Xs, dim=1)\n",
    "\n",
    "t = tn.cross(function=function, domain=domain, ranks_tt=6, function_arg='matrix')"
   ]
  },
  {
   "cell_type": "markdown",
   "metadata": {},
   "source": [
    "## Element-wise Operations on Tensors\n",
    "\n",
    "Here we have one (or several) $N$-dimensional tensors that we want to transform element-wise. For instance, we may want to square each element of our tensor:"
   ]
  },
  {
   "cell_type": "code",
   "execution_count": 3,
   "metadata": {},
   "outputs": [
    {
     "name": "stdout",
     "output_type": "stream",
     "text": [
      "Cross-approximation over a 5D domain containing 3.35544e+07 grid points:\n",
      "iter: 0 | eps: 2.089e-04 | total time:   0.0138\n",
      "iter: 1 | eps: 7.237e-04 | total time:   0.0267\n",
      "iter: 2 | eps: 9.568e-04 | total time:   0.0397 <- converged\n",
      "Did 22080 function evaluations, which took 0.0002475s (8.922e+07 evals/s)\n",
      "\n"
     ]
    }
   ],
   "source": [
    "t2 = tn.cross(function=lambda x: x**2, tensors=t, ranks_tt=6)"
   ]
  },
  {
   "cell_type": "markdown",
   "metadata": {},
   "source": [
    "Just for practice, let's do this now in a slightly different way by passing two tensors:"
   ]
  },
  {
   "cell_type": "code",
   "execution_count": 4,
   "metadata": {},
   "outputs": [
    {
     "name": "stdout",
     "output_type": "stream",
     "text": [
      "Cross-approximation over a 5D domain containing 3.35544e+07 grid points:\n",
      "iter: 0 | eps: 3.017e-04 | total time:   0.0152\n",
      "iter: 1 | eps: 6.855e-04 | total time:   0.0296\n",
      "iter: 2 | eps: 7.822e-04 | total time:   0.0445 <- converged\n",
      "Did 22080 function evaluations, which took 0.0002387s (9.252e+07 evals/s)\n",
      "\n"
     ]
    }
   ],
   "source": [
    "t2 = tn.cross(function=lambda x, y: x*y, tensors=[t, t], ranks_tt=6)"
   ]
  },
  {
   "cell_type": "markdown",
   "metadata": {},
   "source": [
    "Let's check the accuracy of our cross-approximated squaring operation, compared to the groundtruth `t*t`:"
   ]
  },
  {
   "cell_type": "code",
   "execution_count": 5,
   "metadata": {},
   "outputs": [
    {
     "data": {
      "text/plain": [
       "tensor(0.0007)"
      ]
     },
     "execution_count": 5,
     "metadata": {},
     "output_type": "execute_result"
    }
   ],
   "source": [
    "tn.relative_error(t*t, t2)"
   ]
  }
 ],
 "metadata": {
  "kernelspec": {
   "display_name": "Python 3",
   "language": "python",
   "name": "python3"
  },
  "language_info": {
   "codemirror_mode": {
    "name": "ipython",
    "version": 3
   },
   "file_extension": ".py",
   "mimetype": "text/x-python",
   "name": "python",
   "nbconvert_exporter": "python",
   "pygments_lexer": "ipython3",
   "version": "3.6.7"
  }
 },
 "nbformat": 4,
 "nbformat_minor": 2
}
