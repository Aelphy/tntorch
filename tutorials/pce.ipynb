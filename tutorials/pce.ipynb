{
 "cells": [
  {
   "cell_type": "markdown",
   "metadata": {},
   "source": [
    "### Polynomial Chaos Expansions\n",
    "\n",
    "The main idea behind [PCE](https://econpapers.repec.org/article/eeereensy/v_3a93_3ay_3a2008_3ai_3a7_3ap_3a964-979.htm) is to search an interpolator that lives in the subspace of low-degree polynomials (or rather, in the tensor product of such subspaces).\n",
    "\n",
    "In this notebook we will tackle a regression problem: we have $N$ features that are used to train an $N$-dimensional TT model. Each feature $x_n$ is mapped to the $n$-th entry of the tensor; in other words, we learn a function as a discretized tensor:\n",
    "\n",
    "$$f(x) = f(x_0, \\dots, x_{N-1}) \\approx \\mathcal{T}[i_0, \\dots, i_{N-1}]$$\n",
    "\n",
    "Here we will use a noisy 5D synthetic function: $f(x) := \\sum w_n x_n^2 + \\epsilon$ where the $w_n$ are random weights and $\\epsilon$ is Gaussian noise added to every observation."
   ]
  },
  {
   "cell_type": "code",
   "execution_count": 11,
   "metadata": {},
   "outputs": [],
   "source": [
    "import torch\n",
    "import tntorch as tn\n",
    "\n",
    "P = 200\n",
    "ntrain = int(P*0.75)\n",
    "N = 5\n",
    "ticks = 32  # We will use a 32^5 tensor\n",
    "\n",
    "X = torch.randint(0, ticks, (P, N))  # Make features be between 0 and ticks-1 (will be used directly as tensor indices)\n",
    "ws = torch.rand(N)\n",
    "y = torch.matmul(X**2, ws)\n",
    "y += torch.randn(y.shape)*torch.std(y)/10  # Gaussian noise proportional to the clean signal's sigma\n",
    "\n",
    "# Split into train/test\n",
    "X_train = X[:ntrain]\n",
    "y_train = y[:ntrain]\n",
    "X_test = X[ntrain:]\n",
    "y_test = y[ntrain:]"
   ]
  },
  {
   "cell_type": "markdown",
   "metadata": {},
   "source": [
    "Our first attempt will be to learn this problem using only the low rank assumption, i.e. plain [tensor completion](https://github.com/rballester/tntorch/blob/master/tutorials/completion.ipynb):"
   ]
  },
  {
   "cell_type": "code",
   "execution_count": 12,
   "metadata": {},
   "outputs": [
    {
     "name": "stdout",
     "output_type": "stream",
     "text": [
      "iter: 0      | loss:   0.999045 | total time:    0.0032\n",
      "iter: 500    | loss:   0.836139 | total time:    1.0223\n",
      "iter: 1000   | loss:   0.083866 | total time:    1.9843\n",
      "iter: 1500   | loss:   0.014768 | total time:    3.0171\n",
      "iter: 2000   | loss:   0.008732 | total time:    4.3223\n",
      "iter: 2500   | loss:   0.005784 | total time:    5.4598\n",
      "iter: 3000   | loss:   0.003838 | total time:    6.5598\n",
      "iter: 3500   | loss:   0.002404 | total time:    7.7174\n",
      "iter: 4000   | loss:   0.001408 | total time:    8.6591\n",
      "iter: 4500   | loss:   0.000787 | total time:    9.6947\n",
      "iter: 5000   | loss:   0.000424 | total time:   10.7685\n",
      "iter: 5500   | loss:   0.000227 | total time:   11.7960\n",
      "iter: 6000   | loss:   0.000121 | total time:   12.7728\n",
      "iter: 6141   | loss:   0.000100 | total time:   13.0770 <- converged (tol=0.0001)\n"
     ]
    }
   ],
   "source": [
    "t = tn.rand(shape=[ticks]*N, ranks_tt=2, requires_grad=True)\n",
    "\n",
    "def loss(t):\n",
    "    return tn.relative_error(y_train, t[X_train])**2\n",
    "tn.optimize(t, loss)"
   ]
  },
  {
   "cell_type": "markdown",
   "metadata": {},
   "source": [
    "This TT did very well for the training data, but clearly overfitted:"
   ]
  },
  {
   "cell_type": "code",
   "execution_count": 13,
   "metadata": {},
   "outputs": [
    {
     "name": "stdout",
     "output_type": "stream",
     "text": [
      "Test relative error: tensor(0.3962, grad_fn=<DivBackward1>)\n",
      "The model overfitted: it has 512 degrees of freedom, and there are 150 training instances\n"
     ]
    }
   ],
   "source": [
    "print('Test relative error:', tn.relative_error(y_test, t[X_test]))\n",
    "print('The model overfitted: it has {} degrees of freedom, and there are {} training instances'.format(tn.dof(t), len(X_train)))"
   ]
  },
  {
   "cell_type": "markdown",
   "metadata": {},
   "source": [
    "We can look at the groundtruth vs. prediction for the training and test splits:"
   ]
  },
  {
   "cell_type": "code",
   "execution_count": 14,
   "metadata": {},
   "outputs": [
    {
     "data": {
      "image/png": "[encoded data removed]",
      "text/plain": [
       "<Figure size 432x288 with 2 Axes>"
      ]
     },
     "metadata": {},
     "output_type": "display_data"
    }
   ],
   "source": [
    "import matplotlib.pyplot as plt\n",
    "%matplotlib inline\n",
    "\n",
    "def show():\n",
    "    fig = plt.figure()\n",
    "    fig.add_subplot(121)\n",
    "    plt.scatter(y_train, t[X_train].full().detach().numpy())\n",
    "    plt.xlabel('Groundtruth')\n",
    "    plt.ylabel('Predicted')\n",
    "    plt.title('Train')\n",
    "    fig.add_subplot(122)\n",
    "    plt.scatter(y_test, t[X_test].full().detach().numpy())\n",
    "    plt.xlabel('Groundtruth')\n",
    "    plt.ylabel('Predicted')\n",
    "    plt.title('Test')\n",
    "    plt.show()\n",
    "    \n",
    "show()"
   ]
  },
  {
   "cell_type": "markdown",
   "metadata": {},
   "source": [
    "### Seeking a Low-degree Polynomial Solution\n",
    "\n",
    "Next we will try a PCE-like solution. The good news is that PCE is essentially a [Tucker decomposition](https://epubs.siam.org/doi/pdf/10.1137/07070111X) with certain custom factors, namely polynomial, and we can emulate this in *tntorch* via the TT-Tucker model. Essentially we will fix polynomial bases and impose low TT-rank structure on the learnable coefficients."
   ]
  },
  {
   "cell_type": "code",
   "execution_count": 22,
   "metadata": {},
   "outputs": [
    {
     "name": "stdout",
     "output_type": "stream",
     "text": [
      "5D TT-Tucker tensor:\n",
      "\n",
      " 32  32  32  32  32\n",
      "  |   |   |   |   |\n",
      "  2   2   2   2   2\n",
      " (0) (1) (2) (3) (4)\n",
      " / \\ / \\ / \\ / \\ / \\\n",
      "1   2   2   2   2   1\n",
      "\n"
     ]
    }
   ],
   "source": [
    "t = tn.rand(shape=[ticks]*N, ranks_tt=2, ranks_tucker=3, requires_grad=True)  # There are both TT-ranks *and* Tucker-ranks\n",
    "t"
   ]
  },
  {
   "cell_type": "markdown",
   "metadata": {},
   "source": [
    "Note the shape of that tensor network: cores are no longer $2 \\times 32 \\times 2$, but $2 \\times 3 \\times 2$. Their middle dimension is now *compressed* using a so-called *factor matrix* of size $32 \\times 3$. In other words, we are expressing each slice of a TT model as a linear combination of three \"master\" slices only.\n",
    "\n",
    "Furthermore, we want those factors to be fixed bases and contain nicely chosen 1D polynomials along their columns:"
   ]
  },
  {
   "cell_type": "code",
   "execution_count": 23,
   "metadata": {},
   "outputs": [],
   "source": [
    "t.set_factors('legendre', requires_grad=False)  # We set the factors to Legendre polynomials, and fix them (won't be changed during optimization) "
   ]
  },
  {
   "cell_type": "markdown",
   "metadata": {},
   "source": [
    "As expected, the factors' columns are Legendre polynomials of increasing order:"
   ]
  },
  {
   "cell_type": "code",
   "execution_count": 24,
   "metadata": {},
   "outputs": [
    {
     "data": {
      "image/png": "[encoded data removed]",
      "text/plain": [
       "<Figure size 432x288 with 1 Axes>"
      ]
     },
     "metadata": {},
     "output_type": "display_data"
    }
   ],
   "source": [
    "for i in range(t.ranks_tucker[0]):\n",
    "    plt.plot(t.Us[0][:, i].numpy(), label='Degree ${}$'.format(i))\n",
    "plt.legend()\n",
    "plt.show()"
   ]
  },
  {
   "cell_type": "markdown",
   "metadata": {},
   "source": [
    "We are now ready to proceed with our usual optimization target, this time just with this \"smarter\" tensor:"
   ]
  },
  {
   "cell_type": "code",
   "execution_count": 25,
   "metadata": {},
   "outputs": [
    {
     "name": "stdout",
     "output_type": "stream",
     "text": [
      "iter: 0      | loss:   0.999286 | total time:    0.0026\n",
      "iter: 500    | loss:   0.782773 | total time:    1.4275\n",
      "iter: 1000   | loss:   0.034538 | total time:    2.7575\n",
      "iter: 1261   | loss:   0.024786 | total time:    3.4050 <- converged (tol=0.0001)\n"
     ]
    }
   ],
   "source": [
    "tn.optimize(t, loss)"
   ]
  },
  {
   "cell_type": "code",
   "execution_count": 26,
   "metadata": {},
   "outputs": [
    {
     "name": "stdout",
     "output_type": "stream",
     "text": [
      "Test relative error: tensor(0.1478, grad_fn=<DivBackward1>)\n",
      "This model is more restrictive: it only has 32 degrees of freedom\n"
     ]
    }
   ],
   "source": [
    "print('Test relative error:', tn.relative_error(y_test, t[X_test]))\n",
    "print('This model is more restrictive: it only has {} degrees of freedom'.format(tn.dof(t)))"
   ]
  },
  {
   "cell_type": "code",
   "execution_count": 27,
   "metadata": {},
   "outputs": [
    {
     "data": {
      "image/png": "[encoded data removed]",
      "text/plain": [
       "<Figure size 432x288 with 2 Axes>"
      ]
     },
     "metadata": {},
     "output_type": "display_data"
    }
   ],
   "source": [
    "show()"
   ]
  }
 ],
 "metadata": {
  "kernelspec": {
   "display_name": "Python 3",
   "language": "python",
   "name": "python3"
  },
  "language_info": {
   "codemirror_mode": {
    "name": "ipython",
    "version": 3
   },
   "file_extension": ".py",
   "mimetype": "text/x-python",
   "name": "python",
   "nbconvert_exporter": "python",
   "pygments_lexer": "ipython3",
   "version": "3.6.6"
  }
 },
 "nbformat": 4,
 "nbformat_minor": 2
}
