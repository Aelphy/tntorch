{
 "cells": [
  {
   "cell_type": "markdown",
   "metadata": {},
   "source": [
    "### Tensor Decompositions\n",
    "\n",
    "Tensors in *tntorch* are stored in a decomposed format, and so we can straightforwardly learn a compressed representation for a given uncompressed (*full*) tensor. "
   ]
  },
  {
   "cell_type": "code",
   "execution_count": 1,
   "metadata": {},
   "outputs": [
    {
     "name": "stdout",
     "output_type": "stream",
     "text": [
      "iter: 0      | loss:   0.543997 | total time:    0.0010\n",
      "iter: 500    | loss:   0.068096 | total time:    0.8705\n",
      "iter: 1000   | loss:   0.043438 | total time:    1.7205\n",
      "iter: 1500   | loss:   0.017763 | total time:    2.5069\n",
      "iter: 1930   | loss:   0.004130 | total time:    3.2765 <- converged (tol=0.0001)\n"
     ]
    }
   ],
   "source": [
    "import tntorch as tn\n",
    "import torch\n",
    "\n",
    "N = 3\n",
    "gt = tn.rand(shape=[32]*N, ranks_tt=5).full()  # A 3D groundtruth tensor\n",
    "t = tn.rand(shape=gt.shape, ranks_tt=5, requires_grad=True)  # Initial state: random\n",
    "tn.optimize(t, lambda t: tn.relative_error(t, gt))"
   ]
  },
  {
   "cell_type": "markdown",
   "metadata": {},
   "source": [
    "Check the relative error, the root mean square error (RMSE) and the $R^2$ score of the learned tensor:"
   ]
  },
  {
   "cell_type": "code",
   "execution_count": 2,
   "metadata": {},
   "outputs": [
    {
     "name": "stdout",
     "output_type": "stream",
     "text": [
      "tensor(0.0041, grad_fn=<DivBackward1>)\n",
      "tensor(0.0127, grad_fn=<DivBackward0>)\n",
      "tensor(0.9999, grad_fn=<AddBackward>)\n"
     ]
    }
   ],
   "source": [
    "print(tn.relative_error(gt, t))\n",
    "print(tn.rmse(gt, t))\n",
    "print(tn.r_squared(gt, t))"
   ]
  },
  {
   "cell_type": "markdown",
   "metadata": {},
   "source": [
    "Ok, that was easy --after all, we knew the exact rank of the groundtrutn. How about more realistic tensors?\n",
    "\n",
    "Let's try out an analytical 3D function:"
   ]
  },
  {
   "cell_type": "code",
   "execution_count": 3,
   "metadata": {},
   "outputs": [
    {
     "name": "stdout",
     "output_type": "stream",
     "text": [
      "iter: 0      | loss:  55.447667 | total time:    0.0010\n",
      "iter: 500    | loss:  13.461909 | total time:    0.8360\n",
      "iter: 1000   | loss:   7.227232 | total time:    1.8071\n",
      "iter: 1500   | loss:   4.676556 | total time:    2.7783\n",
      "iter: 2000   | loss:   3.282153 | total time:    3.7078\n",
      "iter: 2500   | loss:   2.404226 | total time:    4.5352\n",
      "iter: 3000   | loss:   1.805042 | total time:    5.4087\n",
      "iter: 3500   | loss:   1.376094 | total time:    6.3303\n",
      "iter: 4000   | loss:   1.060893 | total time:    7.2436\n",
      "iter: 4500   | loss:   0.826793 | total time:    8.0418\n",
      "iter: 5000   | loss:   0.652394 | total time:    8.9567\n",
      "iter: 5500   | loss:   0.520899 | total time:    9.8962\n",
      "iter: 6000   | loss:   0.416777 | total time:   10.8903\n",
      "iter: 6500   | loss:   0.324939 | total time:   11.9701\n",
      "iter: 7000   | loss:   0.230926 | total time:   12.9943\n",
      "iter: 7500   | loss:   0.122071 | total time:   14.0333\n",
      "iter: 8000   | loss:   0.010126 | total time:   14.9677\n",
      "iter: 8500   | loss:   0.008826 | total time:   15.9989\n",
      "iter: 9000   | loss:   0.008224 | total time:   17.0447\n",
      "iter: 9500   | loss:   0.007672 | total time:   18.1045\n",
      "iter: 10000  | loss:   0.007136 | total time:   19.0926 <- max_iter was reached\n"
     ]
    }
   ],
   "source": [
    "import numpy as np\n",
    "X, Y, Z = np.meshgrid(range(32), range(32), range(32))\n",
    "gt = torch.Tensor(np.sqrt(np.sqrt(X)*Y + Y*Z**2))\n",
    "t = tn.rand(shape=gt.shape, ranks_tt=3, requires_grad=True)\n",
    "tn.optimize(t, lambda t: tn.relative_error(t, gt))"
   ]
  }
 ],
 "metadata": {
  "kernelspec": {
   "display_name": "Python 3",
   "language": "python",
   "name": "python3"
  },
  "language_info": {
   "codemirror_mode": {
    "name": "ipython",
    "version": 3
   },
   "file_extension": ".py",
   "mimetype": "text/x-python",
   "name": "python",
   "nbconvert_exporter": "python",
   "pygments_lexer": "ipython3",
   "version": "3.6.6"
  }
 },
 "nbformat": 4,
 "nbformat_minor": 2
}
